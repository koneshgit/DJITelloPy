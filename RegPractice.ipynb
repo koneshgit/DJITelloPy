{
  "nbformat": 4,
  "nbformat_minor": 0,
  "metadata": {
    "colab": {
      "provenance": [],
      "authorship_tag": "ABX9TyMk2TyWQ0HyM0VPKr5cjjNa",
      "include_colab_link": true
    },
    "kernelspec": {
      "name": "python3",
      "display_name": "Python 3"
    },
    "language_info": {
      "name": "python"
    }
  },
  "cells": [
    {
      "cell_type": "markdown",
      "metadata": {
        "id": "view-in-github",
        "colab_type": "text"
      },
      "source": [
        "<a href=\"https://colab.research.google.com/github/koneshgit/DJITelloPy/blob/master/RegPractice.ipynb\" target=\"_parent\"><img src=\"https://colab.research.google.com/assets/colab-badge.svg\" alt=\"Open In Colab\"/></a>"
      ]
    },
    {
      "cell_type": "code",
      "execution_count": null,
      "metadata": {
        "colab": {
          "base_uri": "https://localhost:8080/"
        },
        "id": "8CA0XB2n81dD",
        "outputId": "368a1c79-6c06-40f7-8ff8-dc174ddb9af3"
      },
      "outputs": [
        {
          "output_type": "stream",
          "name": "stdout",
          "text": [
            "This is a file \\called image.jpg\n"
          ]
        }
      ],
      "source": [
        "import re\n",
        "\n",
        "def replace_backslash_dot_jpg(text):\n",
        "  \"\"\"Replaces all instances of '\\.jpg' with '.jpg' in a string.\"\"\"\n",
        "  pattern = r\"\\\\.jpg\"\n",
        "  new_text = re.sub(pattern, \".jpg\", text)\n",
        "  return new_text\n",
        "\n",
        "if __name__ == \"__main__\":\n",
        "  text = \"This is a file \\called image\\.jpg\"\n",
        "  new_text = replace_backslash_dot_jpg(text)\n",
        "  print(new_text)"
      ]
    }
  ]
}